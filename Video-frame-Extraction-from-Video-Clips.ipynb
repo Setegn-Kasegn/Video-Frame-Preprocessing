{
 "cells": [
  {
   "cell_type": "code",
   "execution_count": null,
   "id": "4f213a30-9b02-4b9d-b97d-d0f71f77440b",
   "metadata": {},
   "outputs": [],
   "source": [
    "import cv2\n",
    "import os\n",
    "\n",
    "train_dir = '/notebooks/video_clip_dataset_directory_path'\n",
    "video_files = ['x', '02.avi', '03.avi', '04.avi', '05.avi', '06.avi', '07.avi', '08.avi', '09.avi', '10.avi', '11.avi', '12.avi', '13.avi', '14.avi', '15.avi', '16.avi', '17.avi', '18.avi', '19.avi', '20.avi', '21.avi']\n",
    "\n",
    "# Iterate through each video file\n",
    "for video_file in video_files:\n",
    "    # Create a folder for each video\n",
    "    video_folder = os.path.join(train_dir, video_file.split('.')[0])\n",
    "    os.makedirs(video_folder, exist_ok=True)\n",
    "\n",
    "    # Read the video file\n",
    "    video_path = os.path.join(train_dir, video_file)\n",
    "    cap = cv2.VideoCapture(video_path)\n",
    "    \n",
    "    # Get the frames per second (fps) of the video\n",
    "    fps = cap.get(cv2.CAP_PROP_FPS)\n",
    "    print(f\"Frames per second (fps) for {video_file}: {fps}\")\n",
    "\n",
    "    # Read and save each frame\n",
    "    frame_count = 0\n",
    "    while True:\n",
    "        ret, frame = cap.read()\n",
    "        if not ret:\n",
    "            break\n",
    "\n",
    "        frame_count += 1\n",
    "\n",
    "        # Save the frame\n",
    "        frame_filename = f\"frame_{frame_count:04d}.png\"\n",
    "        frame_path = os.path.join(video_folder, frame_filename)\n",
    "        cv2.imwrite(frame_path, frame)\n",
    "\n",
    "    # Release the video capture object\n",
    "    cap.release()\n",
    "\n",
    "print(\"Frames extraction completed.\")\n"
   ]
  }
 ],
 "metadata": {
  "kernelspec": {
   "display_name": "Python 3 (ipykernel)",
   "language": "python",
   "name": "python3"
  },
  "language_info": {
   "codemirror_mode": {
    "name": "ipython",
    "version": 3
   },
   "file_extension": ".py",
   "mimetype": "text/x-python",
   "name": "python",
   "nbconvert_exporter": "python",
   "pygments_lexer": "ipython3",
   "version": "3.9.13"
  }
 },
 "nbformat": 4,
 "nbformat_minor": 5
}
