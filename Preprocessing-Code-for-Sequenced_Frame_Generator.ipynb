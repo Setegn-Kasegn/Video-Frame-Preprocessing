{
 "cells": [
  {
   "cell_type": "code",
   "execution_count": null,
   "id": "4f213a30-9b02-4b9d-b97d-d0f71f77440b",
   "metadata": {},
   "outputs": [],
   "source": [
    "import os\n",
    "import cv2\n",
    "import re\n",
    "import numpy as np\n",
    "\n",
    "# Path to the directory containing image frames\n",
    "data_dir = '/notebooks/Training_data_directory here/Train'\n",
    "\n",
    "# Save preprocessed sequences to a file\n",
    "save_path_sequences = '/notebooks/save-path_put_here/sequences.npy'\n",
    "\n",
    "# Constants\n",
    "sequence_length = 14\n",
    "resize_shape = (64, 64)\n",
    "\n",
    "# Placeholder for sequences\n",
    "sequences = []\n",
    "\n",
    "# Iterate through folders\n",
    "for folder_name in sorted(os.listdir(data_dir)):\n",
    "    folder_path = os.path.join(data_dir, folder_name)\n",
    "\n",
    "    # Load grayscale frames\n",
    "    frames = [cv2.imread(os.path.join(folder_path, f), cv2.IMREAD_GRAYSCALE) for f in sorted(os.listdir(folder_path))]\n",
    "\n",
    "    # Sort frames by filename (assuming filenames are in temporal order)\n",
    "    frames = sorted(frames, key=lambda x: int(re.search(r'\\d+', os.path.basename(str(x)))[0]))\n",
    "\n",
    "    # Create sequences\n",
    "    for i in range(0, len(frames) - sequence_length + 1):\n",
    "        sequence = frames[i:i + sequence_length]\n",
    "\n",
    "        # Resize each frame to (64, 64)\n",
    "        sequence_resized = [cv2.resize(frame, resize_shape) for frame in sequence]\n",
    "\n",
    "        # Preprocess and normalize frames as needed\n",
    "        sequence_resized = [frame / 255.0 for frame in sequence_resized]\n",
    "\n",
    "        # Append the resized sequence to the list\n",
    "        sequences.append(sequence_resized)\n",
    "\n",
    "# Convert the list of sequences to a NumPy array\n",
    "sequences = np.array(sequences)\n",
    "\n",
    "# Save preprocessed sequences to a file\n",
    "np.save(save_path_sequences, sequences)\n",
    "\n",
    "# Print the shape of the resulting array\n",
    "print(\"Sequences shape:\", sequences.shape)\n"
   ]
  }
 ],
 "metadata": {
  "kernelspec": {
   "display_name": "Python 3 (ipykernel)",
   "language": "python",
   "name": "python3"
  },
  "language_info": {
   "codemirror_mode": {
    "name": "ipython",
    "version": 3
   },
   "file_extension": ".py",
   "mimetype": "text/x-python",
   "name": "python",
   "nbconvert_exporter": "python",
   "pygments_lexer": "ipython3",
   "version": "3.9.13"
  }
 },
 "nbformat": 4,
 "nbformat_minor": 5
}
